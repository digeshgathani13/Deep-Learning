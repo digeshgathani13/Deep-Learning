{
 "cells": [
  {
   "cell_type": "code",
   "execution_count": 1,
   "metadata": {
    "scrolled": true
   },
   "outputs": [
    {
     "name": "stdout",
     "output_type": "stream",
     "text": [
      "WARNING:tensorflow:From <ipython-input-1-daa56c7a391b>:4: read_data_sets (from tensorflow.contrib.learn.python.learn.datasets.mnist) is deprecated and will be removed in a future version.\n",
      "Instructions for updating:\n",
      "Please use alternatives such as official/mnist/dataset.py from tensorflow/models.\n",
      "WARNING:tensorflow:From C:\\Users\\Digesh\\Anaconda3\\lib\\site-packages\\tensorflow\\contrib\\learn\\python\\learn\\datasets\\mnist.py:260: maybe_download (from tensorflow.contrib.learn.python.learn.datasets.base) is deprecated and will be removed in a future version.\n",
      "Instructions for updating:\n",
      "Please write your own downloading logic.\n",
      "WARNING:tensorflow:From C:\\Users\\Digesh\\Anaconda3\\lib\\site-packages\\tensorflow\\contrib\\learn\\python\\learn\\datasets\\mnist.py:262: extract_images (from tensorflow.contrib.learn.python.learn.datasets.mnist) is deprecated and will be removed in a future version.\n",
      "Instructions for updating:\n",
      "Please use tf.data to implement this functionality.\n",
      "Extracting /tmp/data/train-images-idx3-ubyte.gz\n",
      "WARNING:tensorflow:From C:\\Users\\Digesh\\Anaconda3\\lib\\site-packages\\tensorflow\\contrib\\learn\\python\\learn\\datasets\\mnist.py:267: extract_labels (from tensorflow.contrib.learn.python.learn.datasets.mnist) is deprecated and will be removed in a future version.\n",
      "Instructions for updating:\n",
      "Please use tf.data to implement this functionality.\n",
      "Extracting /tmp/data/train-labels-idx1-ubyte.gz\n",
      "Extracting /tmp/data/t10k-images-idx3-ubyte.gz\n",
      "Extracting /tmp/data/t10k-labels-idx1-ubyte.gz\n",
      "WARNING:tensorflow:From C:\\Users\\Digesh\\Anaconda3\\lib\\site-packages\\tensorflow\\contrib\\learn\\python\\learn\\datasets\\mnist.py:290: DataSet.__init__ (from tensorflow.contrib.learn.python.learn.datasets.mnist) is deprecated and will be removed in a future version.\n",
      "Instructions for updating:\n",
      "Please use alternatives such as official/mnist/dataset.py from tensorflow/models.\n"
     ]
    }
   ],
   "source": [
    "#load MNIST data\n",
    "import pandas as pd\n",
    "from tensorflow.examples.tutorials.mnist import input_data\n",
    "mnist = input_data.read_data_sets(\"/tmp/data/\")\n",
    "train = pd.DataFrame(mnist.train.images)\n",
    "target = pd.DataFrame(mnist.train.labels)\n",
    "test = pd.DataFrame(mnist.test.images)\n",
    "testLabels = pd.DataFrame(mnist.test.labels)"
   ]
  },
  {
   "cell_type": "code",
   "execution_count": 2,
   "metadata": {},
   "outputs": [],
   "source": [
    "import numpy as np\n",
    "def sigmoid(z):\n",
    "    return( 1/(1+(np.exp(-z))))"
   ]
  },
  {
   "cell_type": "code",
   "execution_count": 3,
   "metadata": {},
   "outputs": [
    {
     "data": {
      "text/plain": [
       "0.5"
      ]
     },
     "execution_count": 3,
     "metadata": {},
     "output_type": "execute_result"
    }
   ],
   "source": [
    "sigmoid (0)"
   ]
  },
  {
   "cell_type": "code",
   "execution_count": 4,
   "metadata": {},
   "outputs": [],
   "source": [
    "import matplotlib.pyplot as plt\n",
    "%matplotlib inline"
   ]
  },
  {
   "cell_type": "code",
   "execution_count": 5,
   "metadata": {},
   "outputs": [
    {
     "data": {
      "text/plain": [
       "[<matplotlib.lines.Line2D at 0x195610b8>]"
      ]
     },
     "execution_count": 5,
     "metadata": {},
     "output_type": "execute_result"
    },
    {
     "data": {
      "image/png": "[encoded data removed]",
      "text/plain": [
       "<Figure size 432x288 with 1 Axes>"
      ]
     },
     "metadata": {
      "needs_background": "light"
     },
     "output_type": "display_data"
    }
   ],
   "source": [
    "z = np.linspace(-10,10, 50)\n",
    "plt.plot(z,sigmoid(z))"
   ]
  },
  {
   "cell_type": "code",
   "execution_count": 6,
   "metadata": {},
   "outputs": [
    {
     "name": "stderr",
     "output_type": "stream",
     "text": [
      "Using TensorFlow backend.\n"
     ]
    }
   ],
   "source": [
    "from keras.models import Sequential\n",
    "from keras.layers.core import Dense\n",
    "from keras.optimizers import SGD"
   ]
  },
  {
   "cell_type": "code",
   "execution_count": 7,
   "metadata": {},
   "outputs": [
    {
     "name": "stdout",
     "output_type": "stream",
     "text": [
      "WARNING:tensorflow:From C:\\Users\\Digesh\\Anaconda3\\lib\\site-packages\\tensorflow\\python\\framework\\op_def_library.py:263: colocate_with (from tensorflow.python.framework.ops) is deprecated and will be removed in a future version.\n",
      "Instructions for updating:\n",
      "Colocations handled automatically by placer.\n"
     ]
    }
   ],
   "source": [
    "model = Sequential()\n",
    "model.add(Dense(100, input_shape=(784,), activation=\"relu\"))\n",
    "model.add(Dense(150, activation=\"relu\"))\n",
    "model.add(Dense(250, activation=\"relu\"))\n",
    "model.add(Dense(10, activation=\"softmax\"))"
   ]
  },
  {
   "cell_type": "code",
   "execution_count": 8,
   "metadata": {
    "scrolled": true
   },
   "outputs": [
    {
     "name": "stdout",
     "output_type": "stream",
     "text": [
      "[INFO] training network...\n",
      "WARNING:tensorflow:From C:\\Users\\Digesh\\Anaconda3\\lib\\site-packages\\tensorflow\\python\\ops\\math_ops.py:3066: to_int32 (from tensorflow.python.ops.math_ops) is deprecated and will be removed in a future version.\n",
      "Instructions for updating:\n",
      "Use tf.cast instead.\n",
      "Train on 55000 samples, validate on 10000 samples\n",
      "Epoch 1/75\n",
      "55000/55000 [==============================] - 3s 58us/step - loss: 1.6898 - acc: 0.5624 - val_loss: 0.8247 - val_acc: 0.8076\n",
      "Epoch 2/75\n",
      "55000/55000 [==============================] - 3s 46us/step - loss: 0.5987 - acc: 0.8433 - val_loss: 0.4447 - val_acc: 0.8752\n",
      "Epoch 3/75\n",
      "55000/55000 [==============================] - 3s 48us/step - loss: 0.4185 - acc: 0.8812 - val_loss: 0.3650 - val_acc: 0.8949\n",
      "Epoch 4/75\n",
      "55000/55000 [==============================] - 3s 48us/step - loss: 0.3597 - acc: 0.8956 - val_loss: 0.3248 - val_acc: 0.9048\n",
      "Epoch 5/75\n",
      "55000/55000 [==============================] - 3s 51us/step - loss: 0.3262 - acc: 0.9045 - val_loss: 0.3003 - val_acc: 0.9102\n",
      "Epoch 6/75\n",
      "55000/55000 [==============================] - 3s 47us/step - loss: 0.3033 - acc: 0.9110 - val_loss: 0.2837 - val_acc: 0.9161\n",
      "Epoch 7/75\n",
      "55000/55000 [==============================] - 3s 46us/step - loss: 0.2851 - acc: 0.9158 - val_loss: 0.2669 - val_acc: 0.9204\n",
      "Epoch 8/75\n",
      "55000/55000 [==============================] - 3s 49us/step - loss: 0.2697 - acc: 0.9208 - val_loss: 0.2537 - val_acc: 0.9272\n",
      "Epoch 9/75\n",
      "55000/55000 [==============================] - 3s 51us/step - loss: 0.2564 - acc: 0.9249 - val_loss: 0.2444 - val_acc: 0.9315\n",
      "Epoch 10/75\n",
      "55000/55000 [==============================] - 3s 58us/step - loss: 0.2446 - acc: 0.9282 - val_loss: 0.2297 - val_acc: 0.9338\n",
      "Epoch 11/75\n",
      "55000/55000 [==============================] - 3s 55us/step - loss: 0.2341 - acc: 0.9317 - val_loss: 0.2224 - val_acc: 0.9357\n",
      "Epoch 12/75\n",
      "55000/55000 [==============================] - 3s 51us/step - loss: 0.2245 - acc: 0.9348 - val_loss: 0.2166 - val_acc: 0.9371\n",
      "Epoch 13/75\n",
      "55000/55000 [==============================] - 3s 52us/step - loss: 0.2151 - acc: 0.9379 - val_loss: 0.2113 - val_acc: 0.9376\n",
      "Epoch 14/75\n",
      "55000/55000 [==============================] - 3s 52us/step - loss: 0.2071 - acc: 0.9395 - val_loss: 0.2007 - val_acc: 0.9409\n",
      "Epoch 15/75\n",
      "55000/55000 [==============================] - 3s 56us/step - loss: 0.1996 - acc: 0.9420 - val_loss: 0.1934 - val_acc: 0.9427\n",
      "Epoch 16/75\n",
      "55000/55000 [==============================] - 3s 59us/step - loss: 0.1925 - acc: 0.9441 - val_loss: 0.1887 - val_acc: 0.9450\n",
      "Epoch 17/75\n",
      "55000/55000 [==============================] - 3s 50us/step - loss: 0.1858 - acc: 0.9463 - val_loss: 0.1824 - val_acc: 0.9453\n",
      "Epoch 18/75\n",
      "55000/55000 [==============================] - 3s 50us/step - loss: 0.1797 - acc: 0.9481 - val_loss: 0.1770 - val_acc: 0.9473\n",
      "Epoch 19/75\n",
      "55000/55000 [==============================] - 3s 50us/step - loss: 0.1742 - acc: 0.9501 - val_loss: 0.1733 - val_acc: 0.9479\n",
      "Epoch 20/75\n",
      "55000/55000 [==============================] - 3s 53us/step - loss: 0.1689 - acc: 0.9518 - val_loss: 0.1741 - val_acc: 0.9475\n",
      "Epoch 21/75\n",
      "55000/55000 [==============================] - 3s 52us/step - loss: 0.1638 - acc: 0.9527 - val_loss: 0.1652 - val_acc: 0.9504\n",
      "Epoch 22/75\n",
      "55000/55000 [==============================] - 3s 53us/step - loss: 0.1590 - acc: 0.9539 - val_loss: 0.1617 - val_acc: 0.9516\n",
      "Epoch 23/75\n",
      "55000/55000 [==============================] - 3s 52us/step - loss: 0.1545 - acc: 0.9552 - val_loss: 0.1551 - val_acc: 0.9518\n",
      "Epoch 24/75\n",
      "55000/55000 [==============================] - 3s 52us/step - loss: 0.1502 - acc: 0.9566 - val_loss: 0.1542 - val_acc: 0.9535\n",
      "Epoch 25/75\n",
      "55000/55000 [==============================] - 3s 51us/step - loss: 0.1461 - acc: 0.9572 - val_loss: 0.1492 - val_acc: 0.9545\n",
      "Epoch 26/75\n",
      "55000/55000 [==============================] - 3s 53us/step - loss: 0.1421 - acc: 0.9589 - val_loss: 0.1477 - val_acc: 0.9549\n",
      "Epoch 27/75\n",
      "55000/55000 [==============================] - 3s 56us/step - loss: 0.1387 - acc: 0.9597 - val_loss: 0.1460 - val_acc: 0.9558\n",
      "Epoch 28/75\n",
      "55000/55000 [==============================] - 3s 51us/step - loss: 0.1352 - acc: 0.9609 - val_loss: 0.1422 - val_acc: 0.9561\n",
      "Epoch 29/75\n",
      "55000/55000 [==============================] - 3s 52us/step - loss: 0.1318 - acc: 0.9614 - val_loss: 0.1396 - val_acc: 0.9562\n",
      "Epoch 30/75\n",
      "55000/55000 [==============================] - 3s 50us/step - loss: 0.1286 - acc: 0.9627 - val_loss: 0.1374 - val_acc: 0.9586\n",
      "Epoch 31/75\n",
      "55000/55000 [==============================] - 3s 52us/step - loss: 0.1253 - acc: 0.9634 - val_loss: 0.1347 - val_acc: 0.9582\n",
      "Epoch 32/75\n",
      "55000/55000 [==============================] - 3s 53us/step - loss: 0.1230 - acc: 0.9641 - val_loss: 0.1316 - val_acc: 0.9591\n",
      "Epoch 33/75\n",
      "55000/55000 [==============================] - 3s 54us/step - loss: 0.1198 - acc: 0.9647 - val_loss: 0.1284 - val_acc: 0.9589\n",
      "Epoch 34/75\n",
      "55000/55000 [==============================] - 3s 51us/step - loss: 0.1171 - acc: 0.9664 - val_loss: 0.1286 - val_acc: 0.9602\n",
      "Epoch 35/75\n",
      "55000/55000 [==============================] - 3s 51us/step - loss: 0.1146 - acc: 0.9667 - val_loss: 0.1295 - val_acc: 0.9604\n",
      "Epoch 36/75\n",
      "55000/55000 [==============================] - 3s 52us/step - loss: 0.1121 - acc: 0.9673 - val_loss: 0.1244 - val_acc: 0.9610\n",
      "Epoch 37/75\n",
      "55000/55000 [==============================] - 3s 52us/step - loss: 0.1099 - acc: 0.9681 - val_loss: 0.1230 - val_acc: 0.9623\n",
      "Epoch 38/75\n",
      "55000/55000 [==============================] - 3s 57us/step - loss: 0.1075 - acc: 0.9689 - val_loss: 0.1208 - val_acc: 0.9615\n",
      "Epoch 39/75\n",
      "55000/55000 [==============================] - 3s 54us/step - loss: 0.1053 - acc: 0.9699 - val_loss: 0.1215 - val_acc: 0.9623\n",
      "Epoch 40/75\n",
      "55000/55000 [==============================] - 3s 54us/step - loss: 0.1030 - acc: 0.9703 - val_loss: 0.1183 - val_acc: 0.9629\n",
      "Epoch 41/75\n",
      "55000/55000 [==============================] - 3s 53us/step - loss: 0.1006 - acc: 0.9711 - val_loss: 0.1183 - val_acc: 0.9629\n",
      "Epoch 42/75\n",
      "55000/55000 [==============================] - 3s 52us/step - loss: 0.0987 - acc: 0.9715 - val_loss: 0.1174 - val_acc: 0.9638\n",
      "Epoch 43/75\n",
      "55000/55000 [==============================] - 3s 53us/step - loss: 0.0968 - acc: 0.9728 - val_loss: 0.1171 - val_acc: 0.9637\n",
      "Epoch 44/75\n",
      "55000/55000 [==============================] - 3s 55us/step - loss: 0.0951 - acc: 0.9726 - val_loss: 0.1118 - val_acc: 0.9646\n",
      "Epoch 45/75\n",
      "55000/55000 [==============================] - 3s 52us/step - loss: 0.0930 - acc: 0.9734 - val_loss: 0.1139 - val_acc: 0.9643\n",
      "Epoch 46/75\n",
      "55000/55000 [==============================] - 3s 53us/step - loss: 0.0915 - acc: 0.9741 - val_loss: 0.1107 - val_acc: 0.9650\n",
      "Epoch 47/75\n",
      "55000/55000 [==============================] - 3s 53us/step - loss: 0.0896 - acc: 0.9740 - val_loss: 0.1097 - val_acc: 0.9661\n",
      "Epoch 48/75\n",
      "55000/55000 [==============================] - 3s 54us/step - loss: 0.0879 - acc: 0.9751 - val_loss: 0.1089 - val_acc: 0.9659\n",
      "Epoch 49/75\n",
      "55000/55000 [==============================] - 3s 58us/step - loss: 0.0864 - acc: 0.9753 - val_loss: 0.1080 - val_acc: 0.9663\n",
      "Epoch 50/75\n",
      "55000/55000 [==============================] - 3s 52us/step - loss: 0.0847 - acc: 0.9758 - val_loss: 0.1078 - val_acc: 0.9668\n",
      "Epoch 51/75\n",
      "55000/55000 [==============================] - 3s 52us/step - loss: 0.0831 - acc: 0.9764 - val_loss: 0.1057 - val_acc: 0.9672\n",
      "Epoch 52/75\n",
      "55000/55000 [==============================] - 3s 50us/step - loss: 0.0818 - acc: 0.9766 - val_loss: 0.1053 - val_acc: 0.9666\n",
      "Epoch 53/75\n",
      "55000/55000 [==============================] - 3s 55us/step - loss: 0.0801 - acc: 0.9772 - val_loss: 0.1059 - val_acc: 0.9672\n",
      "Epoch 54/75\n",
      "55000/55000 [==============================] - 3s 54us/step - loss: 0.0787 - acc: 0.9779 - val_loss: 0.1027 - val_acc: 0.9681\n",
      "Epoch 55/75\n",
      "55000/55000 [==============================] - 3s 54us/step - loss: 0.0773 - acc: 0.9778 - val_loss: 0.1041 - val_acc: 0.9671\n",
      "Epoch 56/75\n",
      "55000/55000 [==============================] - 3s 52us/step - loss: 0.0757 - acc: 0.9790 - val_loss: 0.1026 - val_acc: 0.9687\n",
      "Epoch 57/75\n",
      "55000/55000 [==============================] - 3s 52us/step - loss: 0.0744 - acc: 0.9792 - val_loss: 0.1003 - val_acc: 0.9695\n",
      "Epoch 58/75\n"
     ]
    },
    {
     "name": "stdout",
     "output_type": "stream",
     "text": [
      "55000/55000 [==============================] - 3s 46us/step - loss: 0.0731 - acc: 0.9795 - val_loss: 0.1027 - val_acc: 0.9690\n",
      "Epoch 59/75\n",
      "55000/55000 [==============================] - 2s 44us/step - loss: 0.0721 - acc: 0.9799 - val_loss: 0.0983 - val_acc: 0.9697\n",
      "Epoch 60/75\n",
      "55000/55000 [==============================] - 3s 49us/step - loss: 0.0706 - acc: 0.9802 - val_loss: 0.0985 - val_acc: 0.9702\n",
      "Epoch 61/75\n",
      "55000/55000 [==============================] - 3s 46us/step - loss: 0.0694 - acc: 0.9808 - val_loss: 0.1001 - val_acc: 0.9698\n",
      "Epoch 62/75\n",
      "55000/55000 [==============================] - 3s 46us/step - loss: 0.0683 - acc: 0.9807 - val_loss: 0.0973 - val_acc: 0.9704\n",
      "Epoch 63/75\n",
      "55000/55000 [==============================] - 2s 45us/step - loss: 0.0670 - acc: 0.9812 - val_loss: 0.1033 - val_acc: 0.9688\n",
      "Epoch 64/75\n",
      "55000/55000 [==============================] - 2s 45us/step - loss: 0.0658 - acc: 0.9813 - val_loss: 0.0953 - val_acc: 0.9697\n",
      "Epoch 65/75\n",
      "55000/55000 [==============================] - 2s 45us/step - loss: 0.0646 - acc: 0.9821 - val_loss: 0.0950 - val_acc: 0.9704\n",
      "Epoch 66/75\n",
      "55000/55000 [==============================] - 3s 46us/step - loss: 0.0636 - acc: 0.9824 - val_loss: 0.0944 - val_acc: 0.9709\n",
      "Epoch 67/75\n",
      "55000/55000 [==============================] - 3s 47us/step - loss: 0.0626 - acc: 0.9824 - val_loss: 0.0958 - val_acc: 0.9704\n",
      "Epoch 68/75\n",
      "55000/55000 [==============================] - 2s 44us/step - loss: 0.0614 - acc: 0.9831 - val_loss: 0.0945 - val_acc: 0.9701\n",
      "Epoch 69/75\n",
      "55000/55000 [==============================] - 2s 44us/step - loss: 0.0605 - acc: 0.9832 - val_loss: 0.0938 - val_acc: 0.9712\n",
      "Epoch 70/75\n",
      "55000/55000 [==============================] - 2s 44us/step - loss: 0.0596 - acc: 0.9835 - val_loss: 0.0920 - val_acc: 0.9715\n",
      "Epoch 71/75\n",
      "55000/55000 [==============================] - 3s 47us/step - loss: 0.0583 - acc: 0.9841 - val_loss: 0.0925 - val_acc: 0.9714\n",
      "Epoch 72/75\n",
      "55000/55000 [==============================] - 3s 47us/step - loss: 0.0575 - acc: 0.9844 - val_loss: 0.0933 - val_acc: 0.9712\n",
      "Epoch 73/75\n",
      "55000/55000 [==============================] - 3s 49us/step - loss: 0.0565 - acc: 0.9846 - val_loss: 0.0928 - val_acc: 0.9709\n",
      "Epoch 74/75\n",
      "55000/55000 [==============================] - 2s 45us/step - loss: 0.0555 - acc: 0.9851 - val_loss: 0.0914 - val_acc: 0.9725\n",
      "Epoch 75/75\n",
      "55000/55000 [==============================] - 2s 45us/step - loss: 0.0547 - acc: 0.9853 - val_loss: 0.0913 - val_acc: 0.9716\n"
     ]
    }
   ],
   "source": [
    "# initialize our initial learning rate and # of epochs to train for\n",
    "INIT_LR = 0.01\n",
    "EPOCHS = 75\n",
    " \n",
    "# compile the model using SGD as our optimizer and categorical\n",
    "# cross-entropy loss \n",
    "print(\"[INFO] training network...\")\n",
    "opt = SGD(lr=INIT_LR)\n",
    "model.compile(loss=\"sparse_categorical_crossentropy\", optimizer=opt,\n",
    "\tmetrics=[\"accuracy\"])\n",
    "# train the neural network\n",
    "H = model.fit(train, target, validation_data=(test, testLabels),\n",
    "\tepochs=EPOCHS, batch_size=150)"
   ]
  },
  {
   "cell_type": "code",
   "execution_count": null,
   "metadata": {},
   "outputs": [],
   "source": []
  }
 ],
 "metadata": {
  "kernelspec": {
   "display_name": "Python 3",
   "language": "python",
   "name": "python3"
  },
  "language_info": {
   "codemirror_mode": {
    "name": "ipython",
    "version": 3
   },
   "file_extension": ".py",
   "mimetype": "text/x-python",
   "name": "python",
   "nbconvert_exporter": "python",
   "pygments_lexer": "ipython3",
   "version": "3.7.1"
  }
 },
 "nbformat": 4,
 "nbformat_minor": 2
}
