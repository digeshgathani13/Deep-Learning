{
 "cells": [
  {
   "cell_type": "code",
   "execution_count": 1,
   "metadata": {},
   "outputs": [],
   "source": [
    "import numpy as np\n",
    "import matplotlib.pyplot as plt\n",
    "%matplotlib inline"
   ]
  },
  {
   "cell_type": "code",
   "execution_count": 2,
   "metadata": {},
   "outputs": [],
   "source": [
    "#create sigmoid function\n",
    "def sigmoid(z):\n",
    "    return (1/(1+np.exp(-z)))"
   ]
  },
  {
   "cell_type": "code",
   "execution_count": 4,
   "metadata": {},
   "outputs": [
    {
     "data": {
      "text/plain": [
       "0.5"
      ]
     },
     "execution_count": 4,
     "metadata": {},
     "output_type": "execute_result"
    }
   ],
   "source": [
    "sigmoid(0)"
   ]
  },
  {
   "cell_type": "code",
   "execution_count": 5,
   "metadata": {},
   "outputs": [
    {
     "data": {
      "text/plain": [
       "0.9999546021312976"
      ]
     },
     "execution_count": 5,
     "metadata": {},
     "output_type": "execute_result"
    }
   ],
   "source": [
    "sigmoid(10)"
   ]
  },
  {
   "cell_type": "code",
   "execution_count": 10,
   "metadata": {},
   "outputs": [
    {
     "data": {
      "text/plain": [
       "array([-10.        ,  -9.87437186,  -9.74874372,  -9.62311558,\n",
       "        -9.49748744,  -9.3718593 ,  -9.24623116,  -9.12060302,\n",
       "        -8.99497487,  -8.86934673,  -8.74371859,  -8.61809045,\n",
       "        -8.49246231,  -8.36683417,  -8.24120603,  -8.11557789,\n",
       "        -7.98994975,  -7.86432161,  -7.73869347,  -7.61306533,\n",
       "        -7.48743719,  -7.36180905,  -7.2361809 ,  -7.11055276,\n",
       "        -6.98492462,  -6.85929648,  -6.73366834,  -6.6080402 ,\n",
       "        -6.48241206,  -6.35678392,  -6.23115578,  -6.10552764,\n",
       "        -5.9798995 ,  -5.85427136,  -5.72864322,  -5.60301508,\n",
       "        -5.47738693,  -5.35175879,  -5.22613065,  -5.10050251,\n",
       "        -4.97487437,  -4.84924623,  -4.72361809,  -4.59798995,\n",
       "        -4.47236181,  -4.34673367,  -4.22110553,  -4.09547739,\n",
       "        -3.96984925,  -3.84422111,  -3.71859296,  -3.59296482,\n",
       "        -3.46733668,  -3.34170854,  -3.2160804 ,  -3.09045226,\n",
       "        -2.96482412,  -2.83919598,  -2.71356784,  -2.5879397 ,\n",
       "        -2.46231156,  -2.33668342,  -2.21105528,  -2.08542714,\n",
       "        -1.95979899,  -1.83417085,  -1.70854271,  -1.58291457,\n",
       "        -1.45728643,  -1.33165829,  -1.20603015,  -1.08040201,\n",
       "        -0.95477387,  -0.82914573,  -0.70351759,  -0.57788945,\n",
       "        -0.45226131,  -0.32663317,  -0.20100503,  -0.07537688,\n",
       "         0.05025126,   0.1758794 ,   0.30150754,   0.42713568,\n",
       "         0.55276382,   0.67839196,   0.8040201 ,   0.92964824,\n",
       "         1.05527638,   1.18090452,   1.30653266,   1.4321608 ,\n",
       "         1.55778894,   1.68341709,   1.80904523,   1.93467337,\n",
       "         2.06030151,   2.18592965,   2.31155779,   2.43718593,\n",
       "         2.56281407,   2.68844221,   2.81407035,   2.93969849,\n",
       "         3.06532663,   3.19095477,   3.31658291,   3.44221106,\n",
       "         3.5678392 ,   3.69346734,   3.81909548,   3.94472362,\n",
       "         4.07035176,   4.1959799 ,   4.32160804,   4.44723618,\n",
       "         4.57286432,   4.69849246,   4.8241206 ,   4.94974874,\n",
       "         5.07537688,   5.20100503,   5.32663317,   5.45226131,\n",
       "         5.57788945,   5.70351759,   5.82914573,   5.95477387,\n",
       "         6.08040201,   6.20603015,   6.33165829,   6.45728643,\n",
       "         6.58291457,   6.70854271,   6.83417085,   6.95979899,\n",
       "         7.08542714,   7.21105528,   7.33668342,   7.46231156,\n",
       "         7.5879397 ,   7.71356784,   7.83919598,   7.96482412,\n",
       "         8.09045226,   8.2160804 ,   8.34170854,   8.46733668,\n",
       "         8.59296482,   8.71859296,   8.84422111,   8.96984925,\n",
       "         9.09547739,   9.22110553,   9.34673367,   9.47236181,\n",
       "         9.59798995,   9.72361809,   9.84924623,   9.97487437,\n",
       "        10.10050251,  10.22613065,  10.35175879,  10.47738693,\n",
       "        10.60301508,  10.72864322,  10.85427136,  10.9798995 ,\n",
       "        11.10552764,  11.23115578,  11.35678392,  11.48241206,\n",
       "        11.6080402 ,  11.73366834,  11.85929648,  11.98492462,\n",
       "        12.11055276,  12.2361809 ,  12.36180905,  12.48743719,\n",
       "        12.61306533,  12.73869347,  12.86432161,  12.98994975,\n",
       "        13.11557789,  13.24120603,  13.36683417,  13.49246231,\n",
       "        13.61809045,  13.74371859,  13.86934673,  13.99497487,\n",
       "        14.12060302,  14.24623116,  14.3718593 ,  14.49748744,\n",
       "        14.62311558,  14.74874372,  14.87437186,  15.        ])"
      ]
     },
     "execution_count": 10,
     "metadata": {},
     "output_type": "execute_result"
    }
   ],
   "source": [
    "xvalue = np.linspace(-10,15,200)\n",
    "xvalue"
   ]
  },
  {
   "cell_type": "code",
   "execution_count": 11,
   "metadata": {},
   "outputs": [
    {
     "data": {
      "text/plain": [
       "[<matplotlib.lines.Line2D at 0x55a8630>]"
      ]
     },
     "execution_count": 11,
     "metadata": {},
     "output_type": "execute_result"
    },
    {
     "data": {
      "image/png": "[encoded data removed]",
      "text/plain": [
       "<Figure size 432x288 with 1 Axes>"
      ]
     },
     "metadata": {
      "needs_background": "light"
     },
     "output_type": "display_data"
    }
   ],
   "source": [
    "plt.plot(xvalue,sigmoid(xvalue),color='blue')"
   ]
  },
  {
   "cell_type": "markdown",
   "metadata": {},
   "source": [
    "# Derivation function"
   ]
  },
  {
   "cell_type": "code",
   "execution_count": 12,
   "metadata": {},
   "outputs": [],
   "source": [
    "def derivative(f, x, eps=0.000001):\n",
    "    return( (f(x+eps) - f(x-eps)) / (2*eps) )"
   ]
  },
  {
   "cell_type": "code",
   "execution_count": 13,
   "metadata": {},
   "outputs": [
    {
     "data": {
      "text/plain": [
       "[<matplotlib.lines.Line2D at 0x55fe9b0>]"
      ]
     },
     "execution_count": 13,
     "metadata": {},
     "output_type": "execute_result"
    },
    {
     "data": {
      "image/png": "[encoded data removed]",
      "text/plain": [
       "<Figure size 432x288 with 1 Axes>"
      ]
     },
     "metadata": {
      "needs_background": "light"
     },
     "output_type": "display_data"
    }
   ],
   "source": [
    "plt.plot(xvalue,sigmoid(xvalue),color='blue')\n",
    "plt.plot(xvalue,derivative(sigmoid,xvalue),color='orange')"
   ]
  },
  {
   "cell_type": "markdown",
   "metadata": {},
   "source": [
    "# Tanh"
   ]
  },
  {
   "cell_type": "code",
   "execution_count": 21,
   "metadata": {},
   "outputs": [
    {
     "data": {
      "text/plain": [
       "[<matplotlib.lines.Line2D at 0x81fba90>]"
      ]
     },
     "execution_count": 21,
     "metadata": {},
     "output_type": "execute_result"
    },
    {
     "data": {
      "image/png": "[encoded data removed]",
      "text/plain": [
       "<Figure size 432x288 with 1 Axes>"
      ]
     },
     "metadata": {
      "needs_background": "light"
     },
     "output_type": "display_data"
    }
   ],
   "source": [
    "plt.plot(xvalue,np.tanh(xvalue),color='blue')\n",
    "plt.plot(xvalue,derivative(np.tanh,xvalue),color='orange')"
   ]
  },
  {
   "cell_type": "markdown",
   "metadata": {},
   "source": [
    "# Relu"
   ]
  },
  {
   "cell_type": "code",
   "execution_count": 23,
   "metadata": {},
   "outputs": [],
   "source": [
    "def relu(x):\n",
    "    return np.maximum(0,x)"
   ]
  },
  {
   "cell_type": "code",
   "execution_count": 25,
   "metadata": {},
   "outputs": [
    {
     "data": {
      "text/plain": [
       "[<matplotlib.lines.Line2D at 0x84f5e10>]"
      ]
     },
     "execution_count": 25,
     "metadata": {},
     "output_type": "execute_result"
    },
    {
     "data": {
      "image/png": "[encoded data removed]",
      "text/plain": [
       "<Figure size 432x288 with 1 Axes>"
      ]
     },
     "metadata": {
      "needs_background": "light"
     },
     "output_type": "display_data"
    }
   ],
   "source": [
    "plt.plot(xvalue, relu(xvalue), color='blue')\n",
    "plt.plot(xvalue, derivative(relu,xvalue), color='orange')"
   ]
  },
  {
   "cell_type": "code",
   "execution_count": 1,
   "metadata": {},
   "outputs": [],
   "source": [
    "import tensorflow as tf"
   ]
  },
  {
   "cell_type": "code",
   "execution_count": 3,
   "metadata": {},
   "outputs": [
    {
     "name": "stdout",
     "output_type": "stream",
     "text": [
      "1.13.1\n"
     ]
    }
   ],
   "source": [
    "print(tf.__version__)"
   ]
  },
  {
   "cell_type": "code",
   "execution_count": 4,
   "metadata": {},
   "outputs": [
    {
     "name": "stdout",
     "output_type": "stream",
     "text": [
      "WARNING:tensorflow:From C:\\Users\\Digesh\\Anaconda3\\lib\\site-packages\\tensorflow\\python\\framework\\op_def_library.py:263: colocate_with (from tensorflow.python.framework.ops) is deprecated and will be removed in a future version.\n",
      "Instructions for updating:\n",
      "Colocations handled automatically by placer.\n",
      "3.0 4.0\n",
      "42.0\n"
     ]
    }
   ],
   "source": [
    "x=tf.Variable(3.0, name='x')\n",
    "y=tf.Variable(4.0,name='y')\n",
    "f=x*x*y+y+2\n",
    "\n",
    "with tf.Session() as sess:\n",
    "    x.initializer.run()\n",
    "    y.initializer.run()\n",
    "    print(x.eval(),y.eval())\n",
    "    result=f.eval()\n",
    "    print(result)"
   ]
  },
  {
   "cell_type": "code",
   "execution_count": null,
   "metadata": {},
   "outputs": [],
   "source": []
  }
 ],
 "metadata": {
  "kernelspec": {
   "display_name": "Python 3",
   "language": "python",
   "name": "python3"
  },
  "language_info": {
   "codemirror_mode": {
    "name": "ipython",
    "version": 3
   },
   "file_extension": ".py",
   "mimetype": "text/x-python",
   "name": "python",
   "nbconvert_exporter": "python",
   "pygments_lexer": "ipython3",
   "version": "3.7.1"
  }
 },
 "nbformat": 4,
 "nbformat_minor": 2
}
