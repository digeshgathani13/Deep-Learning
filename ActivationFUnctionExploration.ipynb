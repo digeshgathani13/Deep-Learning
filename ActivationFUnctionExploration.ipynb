{
 "cells": [
  {
   "cell_type": "code",
   "execution_count": 1,
   "metadata": {},
   "outputs": [],
   "source": [
    "#Understanding activation function"
   ]
  },
  {
   "cell_type": "code",
   "execution_count": 3,
   "metadata": {},
   "outputs": [],
   "source": [
    "import numpy as np\n",
    "import matplotlib.pyplot as plt\n",
    "%matplotlib inline\n",
    "import seaborn as sns"
   ]
  },
  {
   "cell_type": "code",
   "execution_count": 4,
   "metadata": {},
   "outputs": [],
   "source": [
    "def sigmoid(z):\n",
    "    return(1/(1+np.exp(-z)))"
   ]
  },
  {
   "cell_type": "code",
   "execution_count": 5,
   "metadata": {},
   "outputs": [
    {
     "data": {
      "text/plain": [
       "0.5"
      ]
     },
     "execution_count": 5,
     "metadata": {},
     "output_type": "execute_result"
    }
   ],
   "source": [
    "sigmoid(0)"
   ]
  },
  {
   "cell_type": "code",
   "execution_count": 6,
   "metadata": {},
   "outputs": [
    {
     "data": {
      "text/plain": [
       "0.9933071490757153"
      ]
     },
     "execution_count": 6,
     "metadata": {},
     "output_type": "execute_result"
    }
   ],
   "source": [
    "sigmoid(5)"
   ]
  },
  {
   "cell_type": "code",
   "execution_count": 7,
   "metadata": {},
   "outputs": [],
   "source": [
    "# creates lineary spaced value between min and max , useful for plitting\n",
    "xvalues = np.linspace(-15,15,150)\n"
   ]
  },
  {
   "cell_type": "code",
   "execution_count": 10,
   "metadata": {
    "scrolled": true
   },
   "outputs": [
    {
     "data": {
      "text/plain": [
       "array([-15.        , -14.79865772, -14.59731544, -14.39597315,\n",
       "       -14.19463087, -13.99328859, -13.79194631, -13.59060403,\n",
       "       -13.38926174, -13.18791946, -12.98657718, -12.7852349 ,\n",
       "       -12.58389262, -12.38255034, -12.18120805, -11.97986577,\n",
       "       -11.77852349, -11.57718121, -11.37583893, -11.17449664,\n",
       "       -10.97315436, -10.77181208, -10.5704698 , -10.36912752,\n",
       "       -10.16778523,  -9.96644295,  -9.76510067,  -9.56375839,\n",
       "        -9.36241611,  -9.16107383,  -8.95973154,  -8.75838926,\n",
       "        -8.55704698,  -8.3557047 ,  -8.15436242,  -7.95302013,\n",
       "        -7.75167785,  -7.55033557,  -7.34899329,  -7.14765101,\n",
       "        -6.94630872,  -6.74496644,  -6.54362416,  -6.34228188,\n",
       "        -6.1409396 ,  -5.93959732,  -5.73825503,  -5.53691275,\n",
       "        -5.33557047,  -5.13422819,  -4.93288591,  -4.73154362,\n",
       "        -4.53020134,  -4.32885906,  -4.12751678,  -3.9261745 ,\n",
       "        -3.72483221,  -3.52348993,  -3.32214765,  -3.12080537,\n",
       "        -2.91946309,  -2.71812081,  -2.51677852,  -2.31543624,\n",
       "        -2.11409396,  -1.91275168,  -1.7114094 ,  -1.51006711,\n",
       "        -1.30872483,  -1.10738255,  -0.90604027,  -0.70469799,\n",
       "        -0.5033557 ,  -0.30201342,  -0.10067114,   0.10067114,\n",
       "         0.30201342,   0.5033557 ,   0.70469799,   0.90604027,\n",
       "         1.10738255,   1.30872483,   1.51006711,   1.7114094 ,\n",
       "         1.91275168,   2.11409396,   2.31543624,   2.51677852,\n",
       "         2.71812081,   2.91946309,   3.12080537,   3.32214765,\n",
       "         3.52348993,   3.72483221,   3.9261745 ,   4.12751678,\n",
       "         4.32885906,   4.53020134,   4.73154362,   4.93288591,\n",
       "         5.13422819,   5.33557047,   5.53691275,   5.73825503,\n",
       "         5.93959732,   6.1409396 ,   6.34228188,   6.54362416,\n",
       "         6.74496644,   6.94630872,   7.14765101,   7.34899329,\n",
       "         7.55033557,   7.75167785,   7.95302013,   8.15436242,\n",
       "         8.3557047 ,   8.55704698,   8.75838926,   8.95973154,\n",
       "         9.16107383,   9.36241611,   9.56375839,   9.76510067,\n",
       "         9.96644295,  10.16778523,  10.36912752,  10.5704698 ,\n",
       "        10.77181208,  10.97315436,  11.17449664,  11.37583893,\n",
       "        11.57718121,  11.77852349,  11.97986577,  12.18120805,\n",
       "        12.38255034,  12.58389262,  12.7852349 ,  12.98657718,\n",
       "        13.18791946,  13.38926174,  13.59060403,  13.79194631,\n",
       "        13.99328859,  14.19463087,  14.39597315,  14.59731544,\n",
       "        14.79865772,  15.        ])"
      ]
     },
     "execution_count": 10,
     "metadata": {},
     "output_type": "execute_result"
    }
   ],
   "source": [
    "xvalues"
   ]
  },
  {
   "cell_type": "code",
   "execution_count": 11,
   "metadata": {
    "scrolled": true
   },
   "outputs": [
    {
     "data": {
      "text/plain": [
       "[<matplotlib.lines.Line2D at 0x10fab3160>]"
      ]
     },
     "execution_count": 11,
     "metadata": {},
     "output_type": "execute_result"
    },
    {
     "data": {
      "image/png": "[encoded data removed]",
      "text/plain": [
       "<Figure size 432x288 with 1 Axes>"
      ]
     },
     "metadata": {},
     "output_type": "display_data"
    }
   ],
   "source": [
    "plt.plot(xvalues, sigmoid(xvalues), color='green')"
   ]
  },
  {
   "cell_type": "code",
   "execution_count": 9,
   "metadata": {},
   "outputs": [],
   "source": [
    "#Lets explore relu function"
   ]
  },
  {
   "cell_type": "code",
   "execution_count": 12,
   "metadata": {},
   "outputs": [],
   "source": [
    "def relu(z):\n",
    "    return np.maximum(0,z)"
   ]
  },
  {
   "cell_type": "code",
   "execution_count": 13,
   "metadata": {},
   "outputs": [
    {
     "data": {
      "text/plain": [
       "5"
      ]
     },
     "execution_count": 13,
     "metadata": {},
     "output_type": "execute_result"
    }
   ],
   "source": [
    "relu(5)"
   ]
  },
  {
   "cell_type": "code",
   "execution_count": 14,
   "metadata": {},
   "outputs": [
    {
     "data": {
      "text/plain": [
       "0"
      ]
     },
     "execution_count": 14,
     "metadata": {},
     "output_type": "execute_result"
    }
   ],
   "source": [
    "relu(-5)"
   ]
  },
  {
   "cell_type": "code",
   "execution_count": 15,
   "metadata": {
    "scrolled": false
   },
   "outputs": [
    {
     "data": {
      "text/plain": [
       "[<matplotlib.lines.Line2D at 0x10fb793c8>]"
      ]
     },
     "execution_count": 15,
     "metadata": {},
     "output_type": "execute_result"
    },
    {
     "data": {
      "image/png": "[encoded data removed]",
      "text/plain": [
       "<Figure size 432x288 with 1 Axes>"
      ]
     },
     "metadata": {},
     "output_type": "display_data"
    }
   ],
   "source": [
    "plt.plot(xvalues, relu(xvalues), color='orange')"
   ]
  },
  {
   "cell_type": "code",
   "execution_count": 16,
   "metadata": {},
   "outputs": [],
   "source": [
    "#lets visualize tanh activation"
   ]
  },
  {
   "cell_type": "code",
   "execution_count": 17,
   "metadata": {
    "scrolled": true
   },
   "outputs": [
    {
     "data": {
      "text/plain": [
       "<matplotlib.collections.PathCollection at 0x10fc33400>"
      ]
     },
     "execution_count": 17,
     "metadata": {},
     "output_type": "execute_result"
    },
    {
     "data": {
      "image/png": "[encoded data removed]",
      "text/plain": [
       "<Figure size 432x288 with 1 Axes>"
      ]
     },
     "metadata": {},
     "output_type": "display_data"
    }
   ],
   "source": [
    "plt.scatter(xvalues, np.tanh(xvalues), color='blue')"
   ]
  },
  {
   "cell_type": "code",
   "execution_count": 18,
   "metadata": {},
   "outputs": [],
   "source": [
    "# Lets calculate derivative of activation functions"
   ]
  },
  {
   "cell_type": "code",
   "execution_count": 19,
   "metadata": {},
   "outputs": [],
   "source": [
    "def derivative ( f, x, eps=0.000001):\n",
    "    return ( (f(x+eps)-f(x-eps))/(2*eps))"
   ]
  },
  {
   "cell_type": "code",
   "execution_count": 20,
   "metadata": {
    "scrolled": false
   },
   "outputs": [
    {
     "data": {
      "text/plain": [
       "[<matplotlib.lines.Line2D at 0x10fc6f4e0>]"
      ]
     },
     "execution_count": 20,
     "metadata": {},
     "output_type": "execute_result"
    },
    {
     "data": {
      "image/png": "[encoded data removed]",
      "text/plain": [
       "<Figure size 432x288 with 1 Axes>"
      ]
     },
     "metadata": {},
     "output_type": "display_data"
    }
   ],
   "source": [
    "plt.plot(xvalues, sigmoid(xvalues), color=\"blue\")\n",
    "plt.plot(xvalues, derivative(sigmoid, xvalues) , color=\"orange\")"
   ]
  },
  {
   "cell_type": "code",
   "execution_count": 21,
   "metadata": {
    "scrolled": true
   },
   "outputs": [
    {
     "data": {
      "text/plain": [
       "[<matplotlib.lines.Line2D at 0x10fc33a90>]"
      ]
     },
     "execution_count": 21,
     "metadata": {},
     "output_type": "execute_result"
    },
    {
     "data": {
      "image/png": "[encoded data removed]",
      "text/plain": [
       "<Figure size 432x288 with 1 Axes>"
      ]
     },
     "metadata": {},
     "output_type": "display_data"
    }
   ],
   "source": [
    "plt.plot(xvalues, relu(xvalues), color=\"blue\")\n",
    "plt.plot(xvalues, derivative(relu, xvalues) , color=\"orange\")"
   ]
  },
  {
   "cell_type": "code",
   "execution_count": 22,
   "metadata": {
    "scrolled": true
   },
   "outputs": [
    {
     "data": {
      "text/plain": [
       "[<matplotlib.lines.Line2D at 0x10fd61208>]"
      ]
     },
     "execution_count": 22,
     "metadata": {},
     "output_type": "execute_result"
    },
    {
     "data": {
      "image/png": "[encoded data removed]",
      "text/plain": [
       "<Figure size 432x288 with 1 Axes>"
      ]
     },
     "metadata": {},
     "output_type": "display_data"
    }
   ],
   "source": [
    "plt.plot(xvalues, np.tanh(xvalues), color=\"blue\")\n",
    "plt.plot(xvalues, derivative(np.tanh, xvalues) , color=\"orange\")"
   ]
  },
  {
   "cell_type": "code",
   "execution_count": 25,
   "metadata": {},
   "outputs": [],
   "source": [
    "# Improvement of relu is called leaky relu\n",
    "def leaky_relu(z):\n",
    "    return np.maximum(0.1*z, z)"
   ]
  },
  {
   "cell_type": "code",
   "execution_count": 26,
   "metadata": {
    "scrolled": true
   },
   "outputs": [
    {
     "data": {
      "text/plain": [
       "[<matplotlib.lines.Line2D at 0x10feaebe0>]"
      ]
     },
     "execution_count": 26,
     "metadata": {},
     "output_type": "execute_result"
    },
    {
     "data": {
      "image/png": "[encoded data removed]",
      "text/plain": [
       "<Figure size 432x288 with 1 Axes>"
      ]
     },
     "metadata": {},
     "output_type": "display_data"
    }
   ],
   "source": [
    "plt.plot(xvalues, leaky_relu(xvalues), color=\"blue\")\n",
    "plt.plot(xvalues, derivative(leaky_relu, xvalues) , color=\"orange\")"
   ]
  },
  {
   "cell_type": "code",
   "execution_count": null,
   "metadata": {},
   "outputs": [],
   "source": []
  }
 ],
 "metadata": {
  "kernelspec": {
   "display_name": "Python 3",
   "language": "python",
   "name": "python3"
  },
  "language_info": {
   "codemirror_mode": {
    "name": "ipython",
    "version": 3
   },
   "file_extension": ".py",
   "mimetype": "text/x-python",
   "name": "python",
   "nbconvert_exporter": "python",
   "pygments_lexer": "ipython3",
   "version": "3.6.4"
  }
 },
 "nbformat": 4,
 "nbformat_minor": 2
}
